{
 "cells": [
  {
   "cell_type": "markdown",
   "metadata": {},
   "source": [
    "Ejercicios con listas\n",
    "\n",
    "Las listas son una colección de objetos\n",
    "Pueden tener distintos tipos de elementos \n",
    "Incluso ser una lista vacía "
   ]
  },
  {
   "cell_type": "code",
   "execution_count": 184,
   "metadata": {},
   "outputs": [
    {
     "name": "stdout",
     "output_type": "stream",
     "text": [
      "[2, 7, 11, -3] [5, 'gato', 1, 0] [] ([12, 'a', 1, 2, 3], ['b', ['c', 14]])\n"
     ]
    }
   ],
   "source": [
    "#colección de objetos\n",
    "L1=[2,7,11,-3]\n",
    "#distintos tipos de elementos\n",
    "L2=[5,'gato',1,0]\n",
    "#puede estar vacia\n",
    "c=[]\n",
    "#puede ser una lista de listas \n",
    "Listas=[12,'a',1,2,3],['b',['c',14]]\n",
    "print (L1,L2,c,Listas)"
   ]
  },
  {
   "cell_type": "markdown",
   "metadata": {},
   "source": [
    "Concatenación de listas y operaciones con listas"
   ]
  },
  {
   "cell_type": "code",
   "execution_count": 185,
   "metadata": {},
   "outputs": [
    {
     "name": "stdout",
     "output_type": "stream",
     "text": [
      "[[2, 7, 11, -3], [5, 'gato', 1, 0], [], ([12, 'a', 1, 2, 3], ['b', ['c', 14]])]\n"
     ]
    }
   ],
   "source": [
    "Listadelistas=[L1,L2,c,Listas]\n",
    "print(Listadelistas)"
   ]
  },
  {
   "cell_type": "code",
   "execution_count": 186,
   "metadata": {},
   "outputs": [
    {
     "name": "stdout",
     "output_type": "stream",
     "text": [
      "[2, 7, 11, -3, 5, 'gato', 1, 0]\n",
      "[5, 'gato', 1, 0, 5, 'gato', 1, 0, 5, 'gato', 1, 0]\n",
      "[5, 'gato', 1, 0]\n",
      "0\n",
      "[2, 7, 11, -3]\n",
      "[11, -3]\n",
      "[2, 7, 11, -3]\n",
      "[250, 7, 11, -3]\n",
      "([12, 'a', 1, 2, 3], ['b', ['c', 14]])\n",
      "2\n",
      "[[250, 7, 11, -3], [5, 'gato', 1, 0], [], ([12, 'a', 1, 2, 3], ['b', ['c', 14]])]\n",
      "4\n"
     ]
    }
   ],
   "source": [
    "L1+L2\n",
    "print(L1+L2)\n",
    "L2*3\n",
    "print (L2*3)\n",
    "x=L2[-1]\n",
    "print(L2)\n",
    "print(x)\n",
    "z=L1[2:4] #asigna a x las posiciones 2 y 4 de L1\n",
    "print(L1)\n",
    "print(z)\n",
    "print(L1)\n",
    "L1[0]=250\n",
    "print(L1)\n",
    "print(Listas)\n",
    "print(len(Listas))\n",
    "print(Listadelistas)\n",
    "print(len(Listadelistas))\n",
    "\n"
   ]
  },
  {
   "cell_type": "markdown",
   "metadata": {},
   "source": [
    "Más operaciones con listas"
   ]
  },
  {
   "cell_type": "code",
   "execution_count": 187,
   "metadata": {},
   "outputs": [
    {
     "name": "stdout",
     "output_type": "stream",
     "text": [
      "[250, 7, 11, -3, 5, 'gato', 1, 0, 'a', 'b', 'c', 'd', 'e', 'f', 1, 2, 3, 4, 5, 'perro']\n",
      "20\n",
      "perro\n",
      "250\n",
      "[250, 7, 11, -3, 5, 'gato', 1, 0, 'a', 'b', 'c', 'd', 'e', 'f', 1, 2, 3, 4, 5]\n",
      "[250, 7, 11, -3, 5, 'gato', 1, 0, 'a', 'b', 'c', 'd', 'e', 'f', 1, 2, 3, 4, 5, 'perro']\n"
     ]
    }
   ],
   "source": [
    "L3=['a','b','c','d','e','f',1,2,3,4,5, 'perro']\n",
    "L4=L1+L2+L3\n",
    "print(L4)\n",
    "print(len(L4))\n",
    "w=L4[-1] #asinga a w el último elemento de la lista\n",
    "print(w)\n",
    "h=L4[0] #asinga a h el primer elemento de la lista\n",
    "print(h)\n",
    "f=L4[0:19] #asigna a f los elementos del inicio a la posición 19 de la lista \n",
    "print(f)\n",
    "print(L4)"
   ]
  },
  {
   "cell_type": "markdown",
   "metadata": {},
   "source": [
    "index y append de listas"
   ]
  },
  {
   "cell_type": "code",
   "execution_count": 188,
   "metadata": {},
   "outputs": [
    {
     "name": "stdout",
     "output_type": "stream",
     "text": [
      "[250, 7, 11, -3, 5, 'gato', 1, 0, 'a', 'b', 'c', 'd', 'e', 'f', 1, 2, 3, 4, 5, 'perro']\n",
      "[250, 7, 11, -3, 5, 'gato', 1, 0, 'a', 'b', 'c', 'd', 'e', 'f', 1, 2, 3, 4, 5, 'perro', -12]\n",
      "4\n",
      "19\n",
      "20\n"
     ]
    }
   ],
   "source": [
    "print(L4)\n",
    "L4.append(-12)\n",
    "print(L4) #Anexa -12 a la lista 4 ¿Cómo puedo hacer una nueva lista L5 que sea esta? Ojo L5=L4.append(-12) no funciona\n",
    "print(L4.index(5)) #da el índice de la lista L4 donde está el primer 5, ¿Cómo encuentro el índice del otro 5?\n",
    "print(L4.index('perro'))\n",
    "print(L4.index(-12)) #¿Cómo encuentro el índice de los otros -12?\n",
    "\n",
    "\n",
    "\n"
   ]
  },
  {
   "cell_type": "markdown",
   "metadata": {},
   "source": [
    "Tuplas\n",
    "no se pueden cambiar los valores asignados\n"
   ]
  },
  {
   "cell_type": "code",
   "execution_count": 198,
   "metadata": {},
   "outputs": [
    {
     "name": "stdout",
     "output_type": "stream",
     "text": [
      "(1, 2, 4, 'x0', -13)\n",
      "1 -13 x0\n",
      "(4,) ()\n",
      "(12, (4, [1, 3]), (3, [6, 2]))\n",
      "12\n",
      "(4, [1, 3])\n",
      "(3, [6, 2])\n",
      "2\n",
      "0\n"
     ]
    }
   ],
   "source": [
    "#tupla de objetos\n",
    "T=(1,2,4,'x0',-13)\n",
    "print(T)\n",
    "T[0]\n",
    "print(T[0], T[-1], T[3])\n",
    "#tupla de un elemento\n",
    "f=(4,)\n",
    "#tupla vacia \n",
    "g=()\n",
    "#tupla de tuplas\n",
    "Tupla=(12,(4,[1,3]),(3,[6,2]))\n",
    "print(f,g)\n",
    "print(Tupla)\n",
    "#posición de elementos de la  tuplas ¿qué valor hay en la posición 1?\n",
    "print(Tupla[0])\n",
    "print(Tupla[1])\n",
    "print(Tupla[2])\n",
    "#índice de una tupla\n",
    "print(Tupla.index((3, [6, 2])))\n",
    "print(Tupla.index(12))\n",
    "\n"
   ]
  }
 ],
 "metadata": {
  "kernelspec": {
   "display_name": "Python 3",
   "language": "python",
   "name": "python3"
  },
  "language_info": {
   "codemirror_mode": {
    "name": "ipython",
    "version": 3
   },
   "file_extension": ".py",
   "mimetype": "text/x-python",
   "name": "python",
   "nbconvert_exporter": "python",
   "pygments_lexer": "ipython3",
   "version": "3.12.6"
  }
 },
 "nbformat": 4,
 "nbformat_minor": 2
}
