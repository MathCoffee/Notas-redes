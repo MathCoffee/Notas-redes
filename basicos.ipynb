{
 "cells": [
  {
   "cell_type": "code",
   "execution_count": null,
   "metadata": {},
   "outputs": [],
   "source": []
  },
  {
   "cell_type": "markdown",
   "metadata": {},
   "source": [
    "Se harán algunas pruebas de comandos e ideas básicas de Phyton"
   ]
  },
  {
   "cell_type": "markdown",
   "metadata": {},
   "source": [
    "En Python las cadenas se declaran con comillas simples o comillas. "
   ]
  },
  {
   "cell_type": "code",
   "execution_count": 1,
   "metadata": {},
   "outputs": [],
   "source": [
    "adn='agtcaggagttaaccata'\n",
    "adn_corto='cgta'\n",
    "frase=\"I can’t Believe It, It’s amazing\"\n",
    "texto='UPN 201, Educar para transformar'"
   ]
  },
  {
   "cell_type": "markdown",
   "metadata": {},
   "source": [
    "Es posible hacer operaciones con cadenas\n"
   ]
  },
  {
   "cell_type": "code",
   "execution_count": 5,
   "metadata": {},
   "outputs": [
    {
     "name": "stdout",
     "output_type": "stream",
     "text": [
      "agtcaggagttaaccata\n",
      "cgta\n",
      "I can’t Believe It, It’s amazing\n",
      "UPN 201, Educar para transformar\n"
     ]
    }
   ],
   "source": [
    "print (adn)\n",
    "print (adn_corto)\n",
    "print (frase)\n",
    "print (texto)"
   ]
  },
  {
   "cell_type": "code",
   "execution_count": 6,
   "metadata": {},
   "outputs": [
    {
     "data": {
      "text/plain": [
       "['3', 'una,', 'español-ingles,', 'algo']"
      ]
     },
     "execution_count": 6,
     "metadata": {},
     "output_type": "execute_result"
    }
   ],
   "source": [
    "adn+adn_corto\n",
    "texto*3\n",
    "frase.lower()\n",
    "len(adn)\n",
    "adn.count('g')\n",
    "adn.replace('g','TAZA')\n",
    "'a' in adn\n",
    "texto.split()\n",
    "texto.split(',')\n",
    "cadena='3*una,*español-ingles,*algo'\n",
    "cadena.split('*')"
   ]
  },
  {
   "cell_type": "code",
   "execution_count": 20,
   "metadata": {},
   "outputs": [
    {
     "name": "stdout",
     "output_type": "stream",
     "text": [
      "agtcaggagttaaccatacgta\n",
      "UPN 201, Educar para transformarUPN 201, Educar para transformarUPN 201, Educar para transformar\n",
      "i can’t believe it, it’s amazing\n",
      "I CAN’T BELIEVE IT, IT’S AMAZING\n",
      "18\n",
      "22\n",
      "4\n",
      "7\n",
      "aTAZAtcaTAZATAZAaTAZAttaaccata\n",
      "True\n",
      "False\n",
      "['UPN', '201,', 'Educar', 'para', 'transformar']\n",
      "['UPN 201', ' Educar para transformar']\n",
      "['I', 'can’t', 'Believe', 'It,', 'It’s', 'amazing']\n",
      "['I can’t Believe It', ' It’s amazing']\n",
      "3*una,*español-ingles,*algo\n",
      "['3', 'una,', 'español-ingles,', 'algo']\n"
     ]
    }
   ],
   "source": [
    "print (adn+adn_corto)\n",
    "print (texto*3)\n",
    "print (frase.lower())\n",
    "print (frase.upper())\n",
    "print (len(adn)) \n",
    "print (len(adn+adn_corto))\n",
    "print (adn.count('g'))\n",
    "print (adn.count('a'))\n",
    "print (adn.replace('g','TAZA'))\n",
    "print ('a' in adn)\n",
    "print ('f' in adn)\n",
    "print (texto.split())\n",
    "print(texto.split(','))\n",
    "print (frase.split())\n",
    "print(frase.split(','))\n",
    "print (cadena)\n",
    "print (cadena.split('*'))"
   ]
  },
  {
   "cell_type": "markdown",
   "metadata": {},
   "source": [
    "Pruebas propias en cadaenas"
   ]
  },
  {
   "cell_type": "code",
   "execution_count": 29,
   "metadata": {},
   "outputs": [
    {
     "name": "stdout",
     "output_type": "stream",
     "text": [
      "Ramiro*Carrillo*Catalán\n",
      "['Ramiro', 'Carrillo', 'Catalán']\n",
      "['Ramiro, Carrillo, Catalan']\n",
      "['Ramiro', ' Carrillo', ' Catalan']\n"
     ]
    }
   ],
   "source": [
    "cadena2='Ramiro*Carrillo*Catalán'\n",
    "cadena3='Ramiro, Carrillo, Catalan'\n",
    "print (cadena2)\n",
    "print (cadena2.split('*'))\n",
    "print (cadena3.split('*'))\n",
    "print (cadena3.split(','))"
   ]
  },
  {
   "cell_type": "markdown",
   "metadata": {},
   "source": [
    "Ejercicio: Generar una cadena de adn y calcular el porcentaje de ocurrencias de a y de g\n",
    "Solución: \n",
    "Contar el número total de elementos en una cadena: TotalCadena\n",
    "Contar el total de elementos a: TotalA\n",
    "Considerar la razón Total de a / Total de elmentos en la cadena es decir  TotalA/TotalCadena\n",
    "Determinar el porcentaje:  P=(TotalA*100)/TotalCadena"
   ]
  },
  {
   "cell_type": "code",
   "execution_count": 44,
   "metadata": {},
   "outputs": [
    {
     "name": "stdout",
     "output_type": "stream",
     "text": [
      "aattggccttaaccgg\n",
      "16\n",
      "4 4 4 4\n",
      "25.0 25.0 25.0 25.0\n"
     ]
    }
   ],
   "source": [
    "cadenaADN='AATTGGCCTTAACCGG'\n",
    "cadenatotal=cadenaADN.lower()\n",
    "print(cadenatotal)\n",
    "print(len(cadenatotal))\n",
    "TotalCadena=len(cadenatotal)\n",
    "TotalA=cadenatotal.count('a')\n",
    "TotalT=cadenatotal.count('t')\n",
    "TotalC=cadenatotal.count('c')\n",
    "TotalG=cadenatotal.count('a')\n",
    "print(TotalA, TotalT, TotalC, TotalG)\n",
    "Pa=(TotalA*100)/TotalCadena\n",
    "Pt=(TotalT*100)/TotalCadena\n",
    "Pc=(TotalC*100)/TotalCadena\n",
    "Pg=(TotalG*100)/TotalCadena\n",
    "print (Pa, Pt, Pc, Pg)\n"
   ]
  }
 ],
 "metadata": {
  "kernelspec": {
   "display_name": "Python 3",
   "language": "python",
   "name": "python3"
  },
  "language_info": {
   "codemirror_mode": {
    "name": "ipython",
    "version": 3
   },
   "file_extension": ".py",
   "mimetype": "text/x-python",
   "name": "python",
   "nbconvert_exporter": "python",
   "pygments_lexer": "ipython3",
   "version": "3.12.6"
  }
 },
 "nbformat": 4,
 "nbformat_minor": 2
}
